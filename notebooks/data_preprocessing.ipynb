{
 "cells": [
  {
   "cell_type": "code",
   "execution_count": 2,
   "id": "9f0cab68-1141-4944-ab9f-49be2dbe5d04",
   "metadata": {},
   "outputs": [
    {
     "name": "stdout",
     "output_type": "stream",
     "text": [
      "<class 'pandas.core.frame.DataFrame'>\n",
      "RangeIndex: 806 entries, 0 to 805\n",
      "Data columns (total 16 columns):\n",
      " #   Column       Non-Null Count  Dtype  \n",
      "---  ------       --------------  -----  \n",
      " 0   P_CODE       806 non-null    object \n",
      " 1   NRM_REGION   806 non-null    object \n",
      " 2   REEF         806 non-null    object \n",
      " 3   DEPTH        806 non-null    int64  \n",
      " 4   VISIT_NO     806 non-null    int64  \n",
      " 5   Date         806 non-null    object \n",
      " 6   subregion    806 non-null    object \n",
      " 7   A            806 non-null    float64\n",
      " 8   AB           806 non-null    float64\n",
      " 9   HC           806 non-null    float64\n",
      " 10  SC           806 non-null    float64\n",
      " 11  CoralCover   806 non-null    float64\n",
      " 12  MA           806 non-null    float64\n",
      " 13  Acr          806 non-null    float64\n",
      " 14  DISTURBANCE  739 non-null    object \n",
      " 15  juv5.d.nf    697 non-null    float64\n",
      "dtypes: float64(8), int64(2), object(6)\n",
      "memory usage: 100.9+ KB\n",
      "None\n",
      "  P_CODE NRM_REGION      REEF  DEPTH  VISIT_NO        Date subregion  \\\n",
      "0     IN   Burdekin  Havannah      2         1  23/08/2005  Burdekin   \n",
      "1     IN   Burdekin  Havannah      2         2  24/08/2006  Burdekin   \n",
      "2     IN   Burdekin  Havannah      2         3   3/07/2007  Burdekin   \n",
      "3     IN   Burdekin  Havannah      2         5  19/06/2009  Burdekin   \n",
      "4     IN   Burdekin  Havannah      2         7  17/08/2011  Burdekin   \n",
      "\n",
      "           A         AB         HC        SC  CoralCover         MA       Acr  \\\n",
      "0  76.187500   7.187500  12.562500  1.687500   14.250000  34.437500   5.50000   \n",
      "1  75.268365   5.378159  15.665533  2.690654   18.356188  37.489227   8.70619   \n",
      "2  70.348906   7.821541  16.949005  3.504354   20.453358  38.020976  10.31764   \n",
      "3  68.000000   8.000000  19.187500  2.875000   22.062500   1.875000   9.68750   \n",
      "4  63.875000  15.812500  15.187500  3.375000   18.562500   0.687500   7.75000   \n",
      "\n",
      "  DISTURBANCE  juv5.d.nf  \n",
      "0         NaN   1.742356  \n",
      "1           n   1.338985  \n",
      "2           n   1.254330  \n",
      "3           n   1.869635  \n",
      "4           s   2.452296  \n"
     ]
    }
   ],
   "source": [
    "import pandas as pd\n",
    "import numpy as np\n",
    "\n",
    "# Load the dataset\n",
    "file_path = '../dataset/all.reef.csv'\n",
    "benthic_data = pd.read_csv(file_path)\n",
    "\n",
    "# Display basic information and check for missing values\n",
    "print(benthic_data.info())\n",
    "print(benthic_data.head())"
   ]
  },
  {
   "cell_type": "code",
   "execution_count": 3,
   "id": "1823787c-aa5f-4039-b598-b8dc02c0adb7",
   "metadata": {},
   "outputs": [
    {
     "name": "stdout",
     "output_type": "stream",
     "text": [
      "  program_code    region reef_location  depth_in_meter  visit_number  \\\n",
      "0           IN  Burdekin      Havannah               2             1   \n",
      "1           IN  Burdekin      Havannah               2             2   \n",
      "2           IN  Burdekin      Havannah               2             3   \n",
      "3           IN  Burdekin      Havannah               2             5   \n",
      "4           IN  Burdekin      Havannah               2             7   \n",
      "\n",
      "  observation_date subregion  algae_cover  sediment_cover  hard_coral_cover  \\\n",
      "0       23/08/2005  Burdekin    76.187500        7.187500         12.562500   \n",
      "1       24/08/2006  Burdekin    75.268365        5.378159         15.665533   \n",
      "2        3/07/2007  Burdekin    70.348906        7.821541         16.949005   \n",
      "3       19/06/2009  Burdekin    68.000000        8.000000         19.187500   \n",
      "4       17/08/2011  Burdekin    63.875000       15.812500         15.187500   \n",
      "\n",
      "   soft_coral_cover  sum_of_hard_soft_cover  macroalgae_cover  acropora_cover  \\\n",
      "0          1.687500               14.250000         34.437500         5.50000   \n",
      "1          2.690654               18.356188         37.489227         8.70619   \n",
      "2          3.504354               20.453358         38.020976        10.31764   \n",
      "3          2.875000               22.062500          1.875000         9.68750   \n",
      "4          3.375000               18.562500          0.687500         7.75000   \n",
      "\n",
      "  disturbance_type  juvenile_coral_density  \n",
      "0              NaN                1.742356  \n",
      "1                n                1.338985  \n",
      "2                n                1.254330  \n",
      "3                n                1.869635  \n",
      "4                s                2.452296  \n"
     ]
    }
   ],
   "source": [
    "# Rename columns for clarity\n",
    "benthic_data.rename(columns={\n",
    "    'P_CODE': 'program_code',\n",
    "    'NRM_REGION': 'region',\n",
    "    'REEF': 'reef_location',\n",
    "    'DEPTH': 'depth_in_meter',\n",
    "    'VISIT_NO': 'visit_number',\n",
    "    'Date': 'observation_date',\n",
    "    'subregion': 'subregion',\n",
    "    'A': 'algae_cover',\n",
    "    'AB': 'sediment_cover',\n",
    "    'HC': 'hard_coral_cover',\n",
    "    'SC': 'soft_coral_cover',\n",
    "    'CoralCover': 'sum_of_hard_soft_cover',\n",
    "    'MA': 'macroalgae_cover',\n",
    "    'Acr': 'acropora_cover',\n",
    "    'DISTURBANCE': 'disturbance_type',\n",
    "    'juv5.d.nf': 'juvenile_coral_density'\n",
    "}, inplace=True)\n",
    "\n",
    "# Display the first few rows of the dataset with new column names\n",
    "print(benthic_data.head())"
   ]
  },
  {
   "cell_type": "code",
   "execution_count": 4,
   "id": "4d0c84a2-2386-4701-ab40-bedb47dc1b05",
   "metadata": {},
   "outputs": [],
   "source": [
    "# Replace missing values in the disturbance_type column with 'unk'\n",
    "benthic_data['disturbance_type'] = benthic_data['disturbance_type'].fillna('unk')\n",
    "\n",
    "# Impute missing values in the juvenile_coral_density column with the mean\n",
    "benthic_data['juvenile_coral_density'] = benthic_data['juvenile_coral_density'].fillna(benthic_data['juvenile_coral_density'].mean())"
   ]
  },
  {
   "cell_type": "code",
   "execution_count": 5,
   "id": "d7ca4900-f7b4-4eaf-a9cb-bb5f32d62db8",
   "metadata": {},
   "outputs": [],
   "source": [
    "# Calculate and create the Coral Health Index (CHI)\n",
    "benthic_data['coral_health_index'] = (benthic_data['hard_coral_cover'] + benthic_data['soft_coral_cover']) / (benthic_data['hard_coral_cover'] + benthic_data['soft_coral_cover'] + benthic_data['macroalgae_cover'])"
   ]
  },
  {
   "cell_type": "code",
   "execution_count": 6,
   "id": "e1f9e3df-bcc0-4123-88ae-3e4f5d51b95a",
   "metadata": {},
   "outputs": [],
   "source": [
    "# Remove rows where disturbance_type is \"b\" because we not sure what \"b\" is stand for\n",
    "benthic_data = benthic_data[benthic_data['disturbance_type'] != 'b']"
   ]
  },
  {
   "cell_type": "code",
   "execution_count": 7,
   "id": "839c32d0-6f08-4058-90b0-477a0859418b",
   "metadata": {},
   "outputs": [],
   "source": [
    "# Encode Disturbance Impact Score (DIS)\n",
    "disturbance_mapping = {'n': 0, 'f': 1, 'd': 2, 's': 3, 'c': 4, 'm': 5, 'unk': 6}\n",
    "\n",
    "# Ensure that the dataset is not a view\n",
    "benthic_data = benthic_data.copy()\n",
    "\n",
    "# Apply the mapping using .loc to avoid the SettingWithCopyWarning\n",
    "benthic_data.loc[:, 'disturbance_impact_score'] = benthic_data['disturbance_type'].map(disturbance_mapping)"
   ]
  },
  {
   "cell_type": "code",
   "execution_count": 8,
   "id": "f1e20d30-00d1-4308-8d31-d2eee12de469",
   "metadata": {},
   "outputs": [],
   "source": [
    "# Convert the observation_date column to datetime format\n",
    "benthic_data['observation_date'] = pd.to_datetime(benthic_data['observation_date'], format='%d/%m/%Y')\n",
    "\n",
    "# Extract season from the observation_date column\n",
    "benthic_data['season'] = benthic_data['observation_date'].dt.month % 12 // 3 + 1"
   ]
  },
  {
   "cell_type": "code",
   "execution_count": 9,
   "id": "d742c0ab-d631-441c-9a07-10e414f2e960",
   "metadata": {},
   "outputs": [
    {
     "name": "stdout",
     "output_type": "stream",
     "text": [
      "  program_code    region reef_location  depth_in_meter  visit_number  \\\n",
      "0           IN  Burdekin      Havannah               2             1   \n",
      "1           IN  Burdekin      Havannah               2             2   \n",
      "2           IN  Burdekin      Havannah               2             3   \n",
      "3           IN  Burdekin      Havannah               2             5   \n",
      "4           IN  Burdekin      Havannah               2             7   \n",
      "\n",
      "  observation_date subregion  algae_cover  sediment_cover  hard_coral_cover  \\\n",
      "0       2005-08-23  Burdekin    76.187500        7.187500         12.562500   \n",
      "1       2006-08-24  Burdekin    75.268365        5.378159         15.665533   \n",
      "2       2007-07-03  Burdekin    70.348906        7.821541         16.949005   \n",
      "3       2009-06-19  Burdekin    68.000000        8.000000         19.187500   \n",
      "4       2011-08-17  Burdekin    63.875000       15.812500         15.187500   \n",
      "\n",
      "   soft_coral_cover  sum_of_hard_soft_cover  macroalgae_cover  acropora_cover  \\\n",
      "0          1.687500               14.250000         34.437500         5.50000   \n",
      "1          2.690654               18.356188         37.489227         8.70619   \n",
      "2          3.504354               20.453358         38.020976        10.31764   \n",
      "3          2.875000               22.062500          1.875000         9.68750   \n",
      "4          3.375000               18.562500          0.687500         7.75000   \n",
      "\n",
      "  disturbance_type  juvenile_coral_density  coral_health_index  \\\n",
      "0              unk                1.742356            0.292683   \n",
      "1                n                1.338985            0.328696   \n",
      "2                n                1.254330            0.349784   \n",
      "3                n                1.869635            0.921671   \n",
      "4                s                2.452296            0.964286   \n",
      "\n",
      "   disturbance_impact_score  season  \n",
      "0                         6       3  \n",
      "1                         0       3  \n",
      "2                         0       3  \n",
      "3                         0       3  \n",
      "4                         3       3  \n"
     ]
    }
   ],
   "source": [
    "print(benthic_data.head())\n"
   ]
  },
  {
   "cell_type": "code",
   "execution_count": null,
   "id": "c0c2d476-04a4-43db-944e-3c22b27f940b",
   "metadata": {},
   "outputs": [],
   "source": []
  }
 ],
 "metadata": {
  "kernelspec": {
   "display_name": "Python 3 (ipykernel)",
   "language": "python",
   "name": "python3"
  },
  "language_info": {
   "codemirror_mode": {
    "name": "ipython",
    "version": 3
   },
   "file_extension": ".py",
   "mimetype": "text/x-python",
   "name": "python",
   "nbconvert_exporter": "python",
   "pygments_lexer": "ipython3",
   "version": "3.10.6"
  }
 },
 "nbformat": 4,
 "nbformat_minor": 5
}
